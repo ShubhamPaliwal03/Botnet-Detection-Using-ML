{
  "nbformat": 4,
  "nbformat_minor": 0,
  "metadata": {
    "colab": {
      "provenance": [],
      "authorship_tag": "ABX9TyNjjuSwr2srn+3kv4v7cmVX",
      "include_colab_link": true
    },
    "kernelspec": {
      "name": "python3",
      "display_name": "Python 3"
    },
    "language_info": {
      "name": "python"
    }
  },
  "cells": [
    {
      "cell_type": "markdown",
      "metadata": {
        "id": "view-in-github",
        "colab_type": "text"
      },
      "source": [
        "<a href=\"https://colab.research.google.com/github/ShubhamPaliwal03/Botnet-Detection-Using-ML/blob/main/botnet_detection.ipynb\" target=\"_parent\"><img src=\"https://colab.research.google.com/assets/colab-badge.svg\" alt=\"Open In Colab\"/></a>"
      ]
    },
    {
      "cell_type": "code",
      "execution_count": 8,
      "metadata": {
        "colab": {
          "base_uri": "https://localhost:8080/",
          "height": 555
        },
        "id": "rYQoVd5pQWLa",
        "outputId": "599bdfc9-de14-4b54-e398-ce02be130e81"
      },
      "outputs": [
        {
          "output_type": "stream",
          "name": "stdout",
          "text": [
            "   Unnamed: 0  Flow Duration  Tot Fwd Pkts  Tot Bwd Pkts  TotLen Fwd Pkts  \\\n",
            "0       31128          30670             0             2                0   \n",
            "1       33686          25894             0             2                0   \n",
            "2       49310          28525             0             2                0   \n",
            "3       30424          29598             0             2                0   \n",
            "4       28639          22644             0             2                0   \n",
            "\n",
            "   TotLen Bwd Pkts  Fwd Pkt Len Max  Fwd Pkt Len Min  Fwd Pkt Len Mean  \\\n",
            "0              241                0                0               0.0   \n",
            "1              176                0                0               0.0   \n",
            "2              247                0                0               0.0   \n",
            "3              114                0                0               0.0   \n",
            "4              155                0                0               0.0   \n",
            "\n",
            "   Fwd Pkt Len Std  ...  Fwd Act Data Pkts  Active Mean  Active Std  \\\n",
            "0              0.0  ...                  0          0.0         0.0   \n",
            "1              0.0  ...                  0          0.0         0.0   \n",
            "2              0.0  ...                  0          0.0         0.0   \n",
            "3              0.0  ...                  0          0.0         0.0   \n",
            "4              0.0  ...                  0          0.0         0.0   \n",
            "\n",
            "   Active Max  Active Min  Idle Mean  Idle Std  Idle Max  Idle Min  Label  \n",
            "0           0           0        0.0       0.0         0         0      0  \n",
            "1           0           0        0.0       0.0         0         0      0  \n",
            "2           0           0        0.0       0.0         0         0      0  \n",
            "3           0           0        0.0       0.0         0         0      0  \n",
            "4           0           0        0.0       0.0         0         0      0  \n",
            "\n",
            "[5 rows x 59 columns]\n",
            "Combined Dataset Created!\n"
          ]
        },
        {
          "output_type": "display_data",
          "data": {
            "text/plain": [
              "<IPython.core.display.Javascript object>"
            ],
            "application/javascript": [
              "\n",
              "    async function download(id, filename, size) {\n",
              "      if (!google.colab.kernel.accessAllowed) {\n",
              "        return;\n",
              "      }\n",
              "      const div = document.createElement('div');\n",
              "      const label = document.createElement('label');\n",
              "      label.textContent = `Downloading \"${filename}\": `;\n",
              "      div.appendChild(label);\n",
              "      const progress = document.createElement('progress');\n",
              "      progress.max = size;\n",
              "      div.appendChild(progress);\n",
              "      document.body.appendChild(div);\n",
              "\n",
              "      const buffers = [];\n",
              "      let downloaded = 0;\n",
              "\n",
              "      const channel = await google.colab.kernel.comms.open(id);\n",
              "      // Send a message to notify the kernel that we're ready.\n",
              "      channel.send({})\n",
              "\n",
              "      for await (const message of channel.messages) {\n",
              "        // Send a message to notify the kernel that we're ready.\n",
              "        channel.send({})\n",
              "        if (message.buffers) {\n",
              "          for (const buffer of message.buffers) {\n",
              "            buffers.push(buffer);\n",
              "            downloaded += buffer.byteLength;\n",
              "            progress.value = downloaded;\n",
              "          }\n",
              "        }\n",
              "      }\n",
              "      const blob = new Blob(buffers, {type: 'application/binary'});\n",
              "      const a = document.createElement('a');\n",
              "      a.href = window.URL.createObjectURL(blob);\n",
              "      a.download = filename;\n",
              "      div.appendChild(a);\n",
              "      a.click();\n",
              "      div.remove();\n",
              "    }\n",
              "  "
            ]
          },
          "metadata": {}
        },
        {
          "output_type": "display_data",
          "data": {
            "text/plain": [
              "<IPython.core.display.Javascript object>"
            ],
            "application/javascript": [
              "download(\"download_e2cd557d-be35-463c-aed6-9fb21d8345d3\", \"CTU13_Combined_Traffic.csv\", 26091437)"
            ]
          },
          "metadata": {}
        },
        {
          "output_type": "stream",
          "name": "stdout",
          "text": [
            "Combined Dataset Saved!\n"
          ]
        }
      ],
      "source": [
        "import pandas as pd\n",
        "from google.colab import files\n",
        "\n",
        "# Load both files\n",
        "attack = pd.read_csv(\"/CTU13_Attack_Traffic.csv\")\n",
        "normal = pd.read_csv(\"/CTU13_Normal_Traffic.csv\")\n",
        "\n",
        "# Add labels\n",
        "attack['Label'] = 1  # Botnet\n",
        "normal['Label'] = 0  # Normal\n",
        "\n",
        "# Combine\n",
        "df = pd.concat([attack, normal], ignore_index=True)\n",
        "\n",
        "# Shuffle\n",
        "df = df.sample(frac=1, random_state=42).reset_index(drop=True)\n",
        "\n",
        "# Check\n",
        "print(df.head())\n",
        "\n",
        "# Save the combined dataset\n",
        "df.to_csv('CTU13_Combined_Traffic.csv', index=False)\n",
        "\n",
        "print(\"Combined Dataset Created!\")\n",
        "\n",
        "files.download('CTU13_Combined_Traffic.csv')\n",
        "\n",
        "print(\"Combined Dataset Saved!\")"
      ]
    },
    {
      "cell_type": "code",
      "source": [
        "from sklearn.model_selection import train_test_split\n",
        "\n",
        "X = df.drop('Label', axis=1)  # Features\n",
        "y = df['Label']              # Target\n",
        "\n",
        "X_train, X_test, y_train, y_test = train_test_split(\n",
        "    X, y, test_size=0.2, random_state=42\n",
        ")"
      ],
      "metadata": {
        "id": "i2kPBsJbTRpO"
      },
      "execution_count": 3,
      "outputs": []
    },
    {
      "cell_type": "code",
      "source": [
        "from sklearn.ensemble import RandomForestClassifier\n",
        "from sklearn.metrics import accuracy_score, classification_report\n",
        "\n",
        "model = RandomForestClassifier(n_estimators=100, random_state=42)\n",
        "model.fit(X_train, y_train)\n",
        "\n",
        "y_pred = model.predict(X_test)\n",
        "\n",
        "print(\"Accuracy:\", accuracy_score(y_test, y_pred))\n",
        "print(classification_report(y_test, y_pred))"
      ],
      "metadata": {
        "colab": {
          "base_uri": "https://localhost:8080/"
        },
        "id": "S-MjopkPTZn5",
        "outputId": "8cd22168-e9d9-4b20-8610-0963e41df8fe"
      },
      "execution_count": 4,
      "outputs": [
        {
          "output_type": "stream",
          "name": "stdout",
          "text": [
            "Accuracy: 0.998319145475248\n",
            "              precision    recall  f1-score   support\n",
            "\n",
            "           0       1.00      1.00      1.00     10719\n",
            "           1       1.00      1.00      1.00      7724\n",
            "\n",
            "    accuracy                           1.00     18443\n",
            "   macro avg       1.00      1.00      1.00     18443\n",
            "weighted avg       1.00      1.00      1.00     18443\n",
            "\n"
          ]
        }
      ]
    },
    {
      "cell_type": "code",
      "source": [
        "from sklearn.metrics import confusion_matrix, ConfusionMatrixDisplay\n",
        "\n",
        "cm = confusion_matrix(y_test, y_pred)\n",
        "disp = ConfusionMatrixDisplay(confusion_matrix=cm, display_labels=['Normal', 'Botnet'])\n",
        "disp.plot()"
      ],
      "metadata": {
        "colab": {
          "base_uri": "https://localhost:8080/",
          "height": 466
        },
        "id": "l5TPztKQUq_W",
        "outputId": "64880598-adf2-4366-b268-e11fb02ccdc6"
      },
      "execution_count": 5,
      "outputs": [
        {
          "output_type": "execute_result",
          "data": {
            "text/plain": [
              "<sklearn.metrics._plot.confusion_matrix.ConfusionMatrixDisplay at 0x7e9e217a0050>"
            ]
          },
          "metadata": {},
          "execution_count": 5
        },
        {
          "output_type": "display_data",
          "data": {
            "text/plain": [
              "<Figure size 640x480 with 2 Axes>"
            ],
            "image/png": "[encoded data removed]"
          },
          "metadata": {}
        }
      ]
    },
    {
      "cell_type": "code",
      "source": [
        "from sklearn.model_selection import train_test_split\n",
        "from sklearn.preprocessing import StandardScaler\n",
        "from sklearn.metrics import accuracy_score, precision_score, recall_score, f1_score\n",
        "from sklearn.linear_model import LogisticRegression\n",
        "from sklearn.neighbors import KNeighborsClassifier\n",
        "from sklearn.svm import SVC\n",
        "import xgboost as xgb\n",
        "import pandas as pd\n",
        "\n",
        "# Load the combined dataset\n",
        "full_dataset = pd.read_csv('/CTU13_Combined_Traffic.csv')\n",
        "\n",
        "X = full_dataset.drop(columns=['Label'])\n",
        "y = full_dataset['Label']\n",
        "\n",
        "# Split data\n",
        "X_train, X_test, y_train, y_test = train_test_split(X, y, test_size=0.3, random_state=42)\n",
        "\n",
        "# Scale data\n",
        "scaler = StandardScaler()\n",
        "X_train_scaled = scaler.fit_transform(X_train)\n",
        "X_test_scaled = scaler.transform(X_test)\n",
        "\n",
        "# Define models\n",
        "models = {\n",
        "    \"XGBoost\": xgb.XGBClassifier(use_label_encoder=False, eval_metric='logloss', verbosity=0),\n",
        "    \"SVM\": SVC(kernel='rbf', C=1.0, gamma='scale'),\n",
        "    \"Logistic Regression\": LogisticRegression(max_iter=1000),\n",
        "    \"KNN\": KNeighborsClassifier(n_neighbors=5)\n",
        "}\n",
        "\n",
        "# Train and evaluate\n",
        "results = []\n",
        "\n",
        "for name, model in models.items():\n",
        "    model.fit(X_train_scaled, y_train)\n",
        "    y_pred = model.predict(X_test_scaled)\n",
        "    results.append({\n",
        "        \"Model\": name,\n",
        "        \"Accuracy\": accuracy_score(y_test, y_pred),\n",
        "        \"Precision\": precision_score(y_test, y_pred),\n",
        "        \"Recall\": recall_score(y_test, y_pred),\n",
        "        \"F1-Score\": f1_score(y_test, y_pred)\n",
        "    })\n",
        "\n",
        "# Print table\n",
        "result_table = pd.DataFrame(results)\n",
        "print(result_table)\n"
      ],
      "metadata": {
        "colab": {
          "base_uri": "https://localhost:8080/"
        },
        "id": "mE5znfMvVSD0",
        "outputId": "2b440409-5b7c-4cd0-b80e-bb81c2cdfaa1"
      },
      "execution_count": 9,
      "outputs": [
        {
          "output_type": "stream",
          "name": "stdout",
          "text": [
            "                 Model  Accuracy  Precision    Recall  F1-Score\n",
            "0              XGBoost  0.998771   0.997927  0.999135  0.998531\n",
            "1                  SVM  0.965768   0.967256  0.950277  0.958691\n",
            "2  Logistic Regression  0.921523   0.918471  0.891387  0.904726\n",
            "3                  KNN  0.994252   0.994022  0.992217  0.993119\n"
          ]
        }
      ]
    }
  ]
}